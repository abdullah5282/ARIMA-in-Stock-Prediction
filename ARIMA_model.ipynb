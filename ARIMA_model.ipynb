{
 "cells": [
  {
   "cell_type": "code",
   "execution_count": 1,
   "id": "fd6c2d37",
   "metadata": {},
   "outputs": [
    {
     "name": "stdout",
     "output_type": "stream",
     "text": [
      "Requirement already satisfied: pmdarima in f:\\python 3.9.7\\lib\\site-packages (2.0.2)\n",
      "Requirement already satisfied: Cython!=0.29.18,!=0.29.31,>=0.29 in f:\\python 3.9.7\\lib\\site-packages (from pmdarima) (0.29.33)\n",
      "Requirement already satisfied: setuptools!=50.0.0,>=38.6.0 in f:\\python 3.9.7\\lib\\site-packages (from pmdarima) (57.4.0)\n",
      "Requirement already satisfied: urllib3 in f:\\python 3.9.7\\lib\\site-packages (from pmdarima) (1.26.9)\n",
      "Requirement already satisfied: scikit-learn>=0.22 in f:\\python 3.9.7\\lib\\site-packages (from pmdarima) (0.24.2)\n",
      "Requirement already satisfied: scipy>=1.3.2 in f:\\python 3.9.7\\lib\\site-packages (from pmdarima) (1.7.1)\n",
      "Requirement already satisfied: joblib>=0.11 in f:\\python 3.9.7\\lib\\site-packages (from pmdarima) (1.0.1)\n",
      "Requirement already satisfied: statsmodels>=0.13.2 in f:\\python 3.9.7\\lib\\site-packages (from pmdarima) (0.13.5)\n",
      "Requirement already satisfied: pandas>=0.19 in f:\\python 3.9.7\\lib\\site-packages (from pmdarima) (1.3.3)\n",
      "Requirement already satisfied: numpy>=1.21.2 in f:\\python 3.9.7\\lib\\site-packages (from pmdarima) (1.21.2)\n",
      "Requirement already satisfied: python-dateutil>=2.7.3 in f:\\python 3.9.7\\lib\\site-packages (from pandas>=0.19->pmdarima) (2.8.2)\n",
      "Requirement already satisfied: pytz>=2017.3 in f:\\python 3.9.7\\lib\\site-packages (from pandas>=0.19->pmdarima) (2022.7.1)\n",
      "Requirement already satisfied: threadpoolctl>=2.0.0 in f:\\python 3.9.7\\lib\\site-packages (from scikit-learn>=0.22->pmdarima) (2.2.0)\n",
      "Requirement already satisfied: patsy>=0.5.2 in f:\\python 3.9.7\\lib\\site-packages (from statsmodels>=0.13.2->pmdarima) (0.5.3)\n",
      "Requirement already satisfied: packaging>=21.3 in f:\\python 3.9.7\\lib\\site-packages (from statsmodels>=0.13.2->pmdarima) (21.3)\n",
      "Requirement already satisfied: pyparsing!=3.0.5,>=2.0.2 in f:\\python 3.9.7\\lib\\site-packages (from packaging>=21.3->statsmodels>=0.13.2->pmdarima) (2.4.7)\n",
      "Requirement already satisfied: six in f:\\python 3.9.7\\lib\\site-packages (from patsy>=0.5.2->statsmodels>=0.13.2->pmdarima) (1.16.0)\n",
      "Note: you may need to restart the kernel to use updated packages.\n"
     ]
    },
    {
     "name": "stderr",
     "output_type": "stream",
     "text": [
      "WARNING: You are using pip version 22.0.4; however, version 23.0.1 is available.\n",
      "You should consider upgrading via the 'F:\\Python 3.9.7\\python.exe -m pip install --upgrade pip' command.\n"
     ]
    }
   ],
   "source": [
    "pip install pmdarima"
   ]
  },
  {
   "cell_type": "code",
   "execution_count": 2,
   "id": "7667d351",
   "metadata": {},
   "outputs": [],
   "source": [
    "import pandas as pd\n",
    "import numpy as np"
   ]
  },
  {
   "cell_type": "code",
   "execution_count": 3,
   "id": "487f8995",
   "metadata": {},
   "outputs": [],
   "source": [
    "stock_data = pd.read_csv('CYIENT.NS.csv')\n",
    "# stock_data = yf.download('LT.NS',start='2012-01-01',end='2022-12-31')\n",
    "# stock_data = yf.download('HCL',start='2012-01-01',end='2022-12-31')\n",
    "# stock_data = yf.download('WIPRO.NS',start='2012-01-01',end='2022-12-31')\n",
    "# stock_data = yf.download('TECHM.NS',start='2012-01-01',end='2022-12-31')\n",
    "# stock_data = yf.download('REDINGTON.NS',start='2012-01-01',end='2022-12-31')\n",
    "# stock_data = yf.download('ITC',start='2012-01-01',end='2022-12-31')\n",
    "# stock_data = yf.download('CYIENT.NS',start='2012-01-01',end='2022-12-31')"
   ]
  },
  {
   "cell_type": "code",
   "execution_count": 4,
   "id": "e75eb331",
   "metadata": {},
   "outputs": [],
   "source": [
    "stock_data.parse_dates=True"
   ]
  },
  {
   "cell_type": "code",
   "execution_count": 5,
   "id": "44e0fa5c",
   "metadata": {},
   "outputs": [
    {
     "data": {
      "text/html": [
       "<div>\n",
       "<style scoped>\n",
       "    .dataframe tbody tr th:only-of-type {\n",
       "        vertical-align: middle;\n",
       "    }\n",
       "\n",
       "    .dataframe tbody tr th {\n",
       "        vertical-align: top;\n",
       "    }\n",
       "\n",
       "    .dataframe thead th {\n",
       "        text-align: right;\n",
       "    }\n",
       "</style>\n",
       "<table border=\"1\" class=\"dataframe\">\n",
       "  <thead>\n",
       "    <tr style=\"text-align: right;\">\n",
       "      <th></th>\n",
       "      <th>Date</th>\n",
       "      <th>Open</th>\n",
       "      <th>High</th>\n",
       "      <th>Low</th>\n",
       "      <th>Close</th>\n",
       "      <th>Adj Close</th>\n",
       "      <th>Volume</th>\n",
       "    </tr>\n",
       "  </thead>\n",
       "  <tbody>\n",
       "    <tr>\n",
       "      <th>0</th>\n",
       "      <td>2012-01-02</td>\n",
       "      <td>111.949997</td>\n",
       "      <td>114.500000</td>\n",
       "      <td>105.699997</td>\n",
       "      <td>110.900002</td>\n",
       "      <td>84.214729</td>\n",
       "      <td>9283.0</td>\n",
       "    </tr>\n",
       "    <tr>\n",
       "      <th>1</th>\n",
       "      <td>2012-01-03</td>\n",
       "      <td>110.650002</td>\n",
       "      <td>116.000000</td>\n",
       "      <td>106.650002</td>\n",
       "      <td>111.849998</td>\n",
       "      <td>84.936127</td>\n",
       "      <td>15330.0</td>\n",
       "    </tr>\n",
       "    <tr>\n",
       "      <th>2</th>\n",
       "      <td>2012-01-04</td>\n",
       "      <td>110.000000</td>\n",
       "      <td>116.250000</td>\n",
       "      <td>108.099998</td>\n",
       "      <td>115.199997</td>\n",
       "      <td>87.480042</td>\n",
       "      <td>5844.0</td>\n",
       "    </tr>\n",
       "    <tr>\n",
       "      <th>3</th>\n",
       "      <td>2012-01-05</td>\n",
       "      <td>115.300003</td>\n",
       "      <td>116.400002</td>\n",
       "      <td>112.050003</td>\n",
       "      <td>114.099998</td>\n",
       "      <td>86.644730</td>\n",
       "      <td>12400.0</td>\n",
       "    </tr>\n",
       "    <tr>\n",
       "      <th>4</th>\n",
       "      <td>2012-01-06</td>\n",
       "      <td>114.900002</td>\n",
       "      <td>114.900002</td>\n",
       "      <td>110.150002</td>\n",
       "      <td>113.349998</td>\n",
       "      <td>86.075180</td>\n",
       "      <td>1368.0</td>\n",
       "    </tr>\n",
       "  </tbody>\n",
       "</table>\n",
       "</div>"
      ],
      "text/plain": [
       "         Date        Open        High         Low       Close  Adj Close  \\\n",
       "0  2012-01-02  111.949997  114.500000  105.699997  110.900002  84.214729   \n",
       "1  2012-01-03  110.650002  116.000000  106.650002  111.849998  84.936127   \n",
       "2  2012-01-04  110.000000  116.250000  108.099998  115.199997  87.480042   \n",
       "3  2012-01-05  115.300003  116.400002  112.050003  114.099998  86.644730   \n",
       "4  2012-01-06  114.900002  114.900002  110.150002  113.349998  86.075180   \n",
       "\n",
       "    Volume  \n",
       "0   9283.0  \n",
       "1  15330.0  \n",
       "2   5844.0  \n",
       "3  12400.0  \n",
       "4   1368.0  "
      ]
     },
     "execution_count": 5,
     "metadata": {},
     "output_type": "execute_result"
    }
   ],
   "source": [
    "stock_data.head()"
   ]
  },
  {
   "cell_type": "code",
   "execution_count": 6,
   "id": "64e9c569",
   "metadata": {},
   "outputs": [
    {
     "data": {
      "text/html": [
       "<div>\n",
       "<style scoped>\n",
       "    .dataframe tbody tr th:only-of-type {\n",
       "        vertical-align: middle;\n",
       "    }\n",
       "\n",
       "    .dataframe tbody tr th {\n",
       "        vertical-align: top;\n",
       "    }\n",
       "\n",
       "    .dataframe thead th {\n",
       "        text-align: right;\n",
       "    }\n",
       "</style>\n",
       "<table border=\"1\" class=\"dataframe\">\n",
       "  <thead>\n",
       "    <tr style=\"text-align: right;\">\n",
       "      <th></th>\n",
       "      <th>Date</th>\n",
       "      <th>Open</th>\n",
       "      <th>High</th>\n",
       "      <th>Low</th>\n",
       "      <th>Close</th>\n",
       "      <th>Adj Close</th>\n",
       "      <th>Volume</th>\n",
       "    </tr>\n",
       "  </thead>\n",
       "  <tbody>\n",
       "    <tr>\n",
       "      <th>2714</th>\n",
       "      <td>2022-12-26</td>\n",
       "      <td>785.000000</td>\n",
       "      <td>819.700012</td>\n",
       "      <td>780.700012</td>\n",
       "      <td>814.500000</td>\n",
       "      <td>814.500000</td>\n",
       "      <td>93019.0</td>\n",
       "    </tr>\n",
       "    <tr>\n",
       "      <th>2715</th>\n",
       "      <td>2022-12-27</td>\n",
       "      <td>818.799988</td>\n",
       "      <td>823.000000</td>\n",
       "      <td>810.000000</td>\n",
       "      <td>816.549988</td>\n",
       "      <td>816.549988</td>\n",
       "      <td>34735.0</td>\n",
       "    </tr>\n",
       "    <tr>\n",
       "      <th>2716</th>\n",
       "      <td>2022-12-28</td>\n",
       "      <td>814.000000</td>\n",
       "      <td>826.799988</td>\n",
       "      <td>811.650024</td>\n",
       "      <td>821.200012</td>\n",
       "      <td>821.200012</td>\n",
       "      <td>49240.0</td>\n",
       "    </tr>\n",
       "    <tr>\n",
       "      <th>2717</th>\n",
       "      <td>2022-12-29</td>\n",
       "      <td>813.799988</td>\n",
       "      <td>823.450012</td>\n",
       "      <td>812.849976</td>\n",
       "      <td>817.049988</td>\n",
       "      <td>817.049988</td>\n",
       "      <td>35258.0</td>\n",
       "    </tr>\n",
       "    <tr>\n",
       "      <th>2718</th>\n",
       "      <td>2022-12-30</td>\n",
       "      <td>821.400024</td>\n",
       "      <td>828.450012</td>\n",
       "      <td>808.000000</td>\n",
       "      <td>811.049988</td>\n",
       "      <td>811.049988</td>\n",
       "      <td>44925.0</td>\n",
       "    </tr>\n",
       "  </tbody>\n",
       "</table>\n",
       "</div>"
      ],
      "text/plain": [
       "            Date        Open        High         Low       Close   Adj Close  \\\n",
       "2714  2022-12-26  785.000000  819.700012  780.700012  814.500000  814.500000   \n",
       "2715  2022-12-27  818.799988  823.000000  810.000000  816.549988  816.549988   \n",
       "2716  2022-12-28  814.000000  826.799988  811.650024  821.200012  821.200012   \n",
       "2717  2022-12-29  813.799988  823.450012  812.849976  817.049988  817.049988   \n",
       "2718  2022-12-30  821.400024  828.450012  808.000000  811.049988  811.049988   \n",
       "\n",
       "       Volume  \n",
       "2714  93019.0  \n",
       "2715  34735.0  \n",
       "2716  49240.0  \n",
       "2717  35258.0  \n",
       "2718  44925.0  "
      ]
     },
     "execution_count": 6,
     "metadata": {},
     "output_type": "execute_result"
    }
   ],
   "source": [
    "stock_data.tail()"
   ]
  },
  {
   "cell_type": "code",
   "execution_count": 7,
   "id": "b53de86d",
   "metadata": {},
   "outputs": [
    {
     "data": {
      "text/plain": [
       "(2719, 7)"
      ]
     },
     "execution_count": 7,
     "metadata": {},
     "output_type": "execute_result"
    }
   ],
   "source": [
    "stock_data.shape"
   ]
  },
  {
   "cell_type": "code",
   "execution_count": 8,
   "id": "343635fe",
   "metadata": {},
   "outputs": [],
   "source": [
    "#stock_data.dropna()"
   ]
  },
  {
   "cell_type": "code",
   "execution_count": 9,
   "id": "36972edb",
   "metadata": {},
   "outputs": [
    {
     "data": {
      "text/html": [
       "<div>\n",
       "<style scoped>\n",
       "    .dataframe tbody tr th:only-of-type {\n",
       "        vertical-align: middle;\n",
       "    }\n",
       "\n",
       "    .dataframe tbody tr th {\n",
       "        vertical-align: top;\n",
       "    }\n",
       "\n",
       "    .dataframe thead th {\n",
       "        text-align: right;\n",
       "    }\n",
       "</style>\n",
       "<table border=\"1\" class=\"dataframe\">\n",
       "  <thead>\n",
       "    <tr style=\"text-align: right;\">\n",
       "      <th></th>\n",
       "      <th>Date</th>\n",
       "      <th>Open</th>\n",
       "      <th>High</th>\n",
       "      <th>Low</th>\n",
       "      <th>Close</th>\n",
       "      <th>Adj Close</th>\n",
       "      <th>Volume</th>\n",
       "    </tr>\n",
       "  </thead>\n",
       "  <tbody>\n",
       "    <tr>\n",
       "      <th>0</th>\n",
       "      <td>2012-01-02</td>\n",
       "      <td>111.949997</td>\n",
       "      <td>114.500000</td>\n",
       "      <td>105.699997</td>\n",
       "      <td>110.900002</td>\n",
       "      <td>84.214729</td>\n",
       "      <td>9283.0</td>\n",
       "    </tr>\n",
       "    <tr>\n",
       "      <th>1</th>\n",
       "      <td>2012-01-03</td>\n",
       "      <td>110.650002</td>\n",
       "      <td>116.000000</td>\n",
       "      <td>106.650002</td>\n",
       "      <td>111.849998</td>\n",
       "      <td>84.936127</td>\n",
       "      <td>15330.0</td>\n",
       "    </tr>\n",
       "    <tr>\n",
       "      <th>2</th>\n",
       "      <td>2012-01-04</td>\n",
       "      <td>110.000000</td>\n",
       "      <td>116.250000</td>\n",
       "      <td>108.099998</td>\n",
       "      <td>115.199997</td>\n",
       "      <td>87.480042</td>\n",
       "      <td>5844.0</td>\n",
       "    </tr>\n",
       "    <tr>\n",
       "      <th>3</th>\n",
       "      <td>2012-01-05</td>\n",
       "      <td>115.300003</td>\n",
       "      <td>116.400002</td>\n",
       "      <td>112.050003</td>\n",
       "      <td>114.099998</td>\n",
       "      <td>86.644730</td>\n",
       "      <td>12400.0</td>\n",
       "    </tr>\n",
       "    <tr>\n",
       "      <th>4</th>\n",
       "      <td>2012-01-06</td>\n",
       "      <td>114.900002</td>\n",
       "      <td>114.900002</td>\n",
       "      <td>110.150002</td>\n",
       "      <td>113.349998</td>\n",
       "      <td>86.075180</td>\n",
       "      <td>1368.0</td>\n",
       "    </tr>\n",
       "    <tr>\n",
       "      <th>...</th>\n",
       "      <td>...</td>\n",
       "      <td>...</td>\n",
       "      <td>...</td>\n",
       "      <td>...</td>\n",
       "      <td>...</td>\n",
       "      <td>...</td>\n",
       "      <td>...</td>\n",
       "    </tr>\n",
       "    <tr>\n",
       "      <th>2714</th>\n",
       "      <td>2022-12-26</td>\n",
       "      <td>785.000000</td>\n",
       "      <td>819.700012</td>\n",
       "      <td>780.700012</td>\n",
       "      <td>814.500000</td>\n",
       "      <td>814.500000</td>\n",
       "      <td>93019.0</td>\n",
       "    </tr>\n",
       "    <tr>\n",
       "      <th>2715</th>\n",
       "      <td>2022-12-27</td>\n",
       "      <td>818.799988</td>\n",
       "      <td>823.000000</td>\n",
       "      <td>810.000000</td>\n",
       "      <td>816.549988</td>\n",
       "      <td>816.549988</td>\n",
       "      <td>34735.0</td>\n",
       "    </tr>\n",
       "    <tr>\n",
       "      <th>2716</th>\n",
       "      <td>2022-12-28</td>\n",
       "      <td>814.000000</td>\n",
       "      <td>826.799988</td>\n",
       "      <td>811.650024</td>\n",
       "      <td>821.200012</td>\n",
       "      <td>821.200012</td>\n",
       "      <td>49240.0</td>\n",
       "    </tr>\n",
       "    <tr>\n",
       "      <th>2717</th>\n",
       "      <td>2022-12-29</td>\n",
       "      <td>813.799988</td>\n",
       "      <td>823.450012</td>\n",
       "      <td>812.849976</td>\n",
       "      <td>817.049988</td>\n",
       "      <td>817.049988</td>\n",
       "      <td>35258.0</td>\n",
       "    </tr>\n",
       "    <tr>\n",
       "      <th>2718</th>\n",
       "      <td>2022-12-30</td>\n",
       "      <td>821.400024</td>\n",
       "      <td>828.450012</td>\n",
       "      <td>808.000000</td>\n",
       "      <td>811.049988</td>\n",
       "      <td>811.049988</td>\n",
       "      <td>44925.0</td>\n",
       "    </tr>\n",
       "  </tbody>\n",
       "</table>\n",
       "<p>2713 rows × 7 columns</p>\n",
       "</div>"
      ],
      "text/plain": [
       "            Date        Open        High         Low       Close   Adj Close  \\\n",
       "0     2012-01-02  111.949997  114.500000  105.699997  110.900002   84.214729   \n",
       "1     2012-01-03  110.650002  116.000000  106.650002  111.849998   84.936127   \n",
       "2     2012-01-04  110.000000  116.250000  108.099998  115.199997   87.480042   \n",
       "3     2012-01-05  115.300003  116.400002  112.050003  114.099998   86.644730   \n",
       "4     2012-01-06  114.900002  114.900002  110.150002  113.349998   86.075180   \n",
       "...          ...         ...         ...         ...         ...         ...   \n",
       "2714  2022-12-26  785.000000  819.700012  780.700012  814.500000  814.500000   \n",
       "2715  2022-12-27  818.799988  823.000000  810.000000  816.549988  816.549988   \n",
       "2716  2022-12-28  814.000000  826.799988  811.650024  821.200012  821.200012   \n",
       "2717  2022-12-29  813.799988  823.450012  812.849976  817.049988  817.049988   \n",
       "2718  2022-12-30  821.400024  828.450012  808.000000  811.049988  811.049988   \n",
       "\n",
       "       Volume  \n",
       "0      9283.0  \n",
       "1     15330.0  \n",
       "2      5844.0  \n",
       "3     12400.0  \n",
       "4      1368.0  \n",
       "...       ...  \n",
       "2714  93019.0  \n",
       "2715  34735.0  \n",
       "2716  49240.0  \n",
       "2717  35258.0  \n",
       "2718  44925.0  \n",
       "\n",
       "[2713 rows x 7 columns]"
      ]
     },
     "execution_count": 9,
     "metadata": {},
     "output_type": "execute_result"
    }
   ],
   "source": [
    "# Replacing infinite with nan\n",
    "stock_data.replace([np.inf, -np.inf], np.nan, inplace=True)\n",
    "\n",
    "# Dropping all the rows with nan values\n",
    "stock_data.dropna(inplace=True)\n",
    "\n",
    "# Printing df\n",
    "stock_data\n"
   ]
  },
  {
   "cell_type": "code",
   "execution_count": 10,
   "id": "950105ca",
   "metadata": {},
   "outputs": [
    {
     "data": {
      "text/plain": [
       "<AxesSubplot:>"
      ]
     },
     "execution_count": 10,
     "metadata": {},
     "output_type": "execute_result"
    },
    {
     "data": {
      "image/png": "[encoded data removed]",
      "text/plain": [
       "<Figure size 864x360 with 1 Axes>"
      ]
     },
     "metadata": {
      "needs_background": "light"
     },
     "output_type": "display_data"
    }
   ],
   "source": [
    "stock_data['Close'].plot(figsize=(12,5))"
   ]
  },
  {
   "cell_type": "code",
   "execution_count": 11,
   "id": "a4fc2c88",
   "metadata": {},
   "outputs": [],
   "source": [
    "#check for stationary\n",
    "from statsmodels.tsa.stattools import adfuller\n",
    "def ad_test(dataset):\n",
    "    dftest=adfuller(dataset,autolag='AIC')\n",
    "    print('1. ADF : ',dftest[0])\n",
    "    print('2. P-Value : ',dftest[1])\n",
    "    print('3. Num Of Lags : ',dftest[2])\n",
    "    print('4. Num of Observation Used for ADF : ',dftest[3])\n",
    "    print('5. Critical Values : ')\n",
    "    for key, val in dftest[4].items():\n",
    "        print('\\t',key,':',val)"
   ]
  },
  {
   "cell_type": "code",
   "execution_count": 12,
   "id": "341c4ebf",
   "metadata": {},
   "outputs": [
    {
     "name": "stdout",
     "output_type": "stream",
     "text": [
      "1. ADF :  -1.4812534813322464\n",
      "2. P-Value :  0.5427637536793843\n",
      "3. Num Of Lags :  25\n",
      "4. Num of Observation Used for ADF :  2687\n",
      "5. Critical Values : \n",
      "\t 1% : -3.4327860097199814\n",
      "\t 5% : -2.862616249081039\n",
      "\t 10% : -2.5673429234848517\n"
     ]
    }
   ],
   "source": [
    "ad_test(stock_data['Close'])"
   ]
  },
  {
   "cell_type": "code",
   "execution_count": 13,
   "id": "a7ff0473",
   "metadata": {},
   "outputs": [],
   "source": [
    "from pmdarima import auto_arima\n",
    "import warnings\n",
    "warnings.filterwarnings('ignore')"
   ]
  },
  {
   "cell_type": "code",
   "execution_count": 14,
   "id": "9366920b",
   "metadata": {},
   "outputs": [
    {
     "name": "stdout",
     "output_type": "stream",
     "text": [
      "Performing stepwise search to minimize aic\n",
      " ARIMA(2,1,2)(0,0,0)[0] intercept   : AIC=21200.376, Time=1.80 sec\n",
      " ARIMA(0,1,0)(0,0,0)[0] intercept   : AIC=21203.999, Time=0.04 sec\n",
      " ARIMA(1,1,0)(0,0,0)[0] intercept   : AIC=21205.999, Time=0.11 sec\n",
      " ARIMA(0,1,1)(0,0,0)[0] intercept   : AIC=21205.999, Time=0.18 sec\n",
      " ARIMA(0,1,0)(0,0,0)[0]             : AIC=21203.242, Time=0.03 sec\n",
      " ARIMA(1,1,2)(0,0,0)[0] intercept   : AIC=21205.157, Time=0.70 sec\n",
      " ARIMA(2,1,1)(0,0,0)[0] intercept   : AIC=21205.478, Time=0.96 sec\n",
      " ARIMA(3,1,2)(0,0,0)[0] intercept   : AIC=inf, Time=2.00 sec\n",
      " ARIMA(2,1,3)(0,0,0)[0] intercept   : AIC=inf, Time=2.54 sec\n",
      " ARIMA(1,1,1)(0,0,0)[0] intercept   : AIC=inf, Time=0.94 sec\n",
      " ARIMA(1,1,3)(0,0,0)[0] intercept   : AIC=21199.803, Time=1.00 sec\n",
      " ARIMA(0,1,3)(0,0,0)[0] intercept   : AIC=21204.568, Time=0.37 sec\n",
      " ARIMA(1,1,4)(0,0,0)[0] intercept   : AIC=21200.183, Time=1.48 sec\n",
      " ARIMA(0,1,2)(0,0,0)[0] intercept   : AIC=21203.496, Time=0.25 sec\n",
      " ARIMA(0,1,4)(0,0,0)[0] intercept   : AIC=21202.521, Time=0.48 sec\n",
      " ARIMA(2,1,4)(0,0,0)[0] intercept   : AIC=inf, Time=3.15 sec\n",
      " ARIMA(1,1,3)(0,0,0)[0]             : AIC=21199.350, Time=0.35 sec\n",
      " ARIMA(0,1,3)(0,0,0)[0]             : AIC=21203.759, Time=0.16 sec\n",
      " ARIMA(1,1,2)(0,0,0)[0]             : AIC=21204.312, Time=0.40 sec\n",
      " ARIMA(2,1,3)(0,0,0)[0]             : AIC=inf, Time=1.48 sec\n",
      " ARIMA(1,1,4)(0,0,0)[0]             : AIC=21199.725, Time=0.84 sec\n",
      " ARIMA(0,1,2)(0,0,0)[0]             : AIC=21202.636, Time=0.12 sec\n",
      " ARIMA(0,1,4)(0,0,0)[0]             : AIC=21201.827, Time=0.28 sec\n",
      " ARIMA(2,1,2)(0,0,0)[0]             : AIC=21199.563, Time=0.85 sec\n",
      " ARIMA(2,1,4)(0,0,0)[0]             : AIC=inf, Time=1.72 sec\n",
      "\n",
      "Best model:  ARIMA(1,1,3)(0,0,0)[0]          \n",
      "Total fit time: 22.258 seconds\n"
     ]
    },
    {
     "data": {
      "text/html": [
       "<table class=\"simpletable\">\n",
       "<caption>SARIMAX Results</caption>\n",
       "<tr>\n",
       "  <th>Dep. Variable:</th>           <td>y</td>        <th>  No. Observations:  </th>    <td>2713</td>   \n",
       "</tr>\n",
       "<tr>\n",
       "  <th>Model:</th>           <td>SARIMAX(1, 1, 3)</td> <th>  Log Likelihood     </th> <td>-10594.675</td>\n",
       "</tr>\n",
       "<tr>\n",
       "  <th>Date:</th>            <td>Fri, 14 Apr 2023</td> <th>  AIC                </th>  <td>21199.350</td>\n",
       "</tr>\n",
       "<tr>\n",
       "  <th>Time:</th>                <td>20:05:57</td>     <th>  BIC                </th>  <td>21228.878</td>\n",
       "</tr>\n",
       "<tr>\n",
       "  <th>Sample:</th>                  <td>0</td>        <th>  HQIC               </th>  <td>21210.026</td>\n",
       "</tr>\n",
       "<tr>\n",
       "  <th></th>                      <td> - 2713</td>     <th>                     </th>      <td> </td>    \n",
       "</tr>\n",
       "<tr>\n",
       "  <th>Covariance Type:</th>        <td>opg</td>       <th>                     </th>      <td> </td>    \n",
       "</tr>\n",
       "</table>\n",
       "<table class=\"simpletable\">\n",
       "<tr>\n",
       "     <td></td>       <th>coef</th>     <th>std err</th>      <th>z</th>      <th>P>|z|</th>  <th>[0.025</th>    <th>0.975]</th>  \n",
       "</tr>\n",
       "<tr>\n",
       "  <th>ar.L1</th>  <td>    0.7421</td> <td>    0.123</td> <td>    6.031</td> <td> 0.000</td> <td>    0.501</td> <td>    0.983</td>\n",
       "</tr>\n",
       "<tr>\n",
       "  <th>ma.L1</th>  <td>   -0.7449</td> <td>    0.123</td> <td>   -6.046</td> <td> 0.000</td> <td>   -0.986</td> <td>   -0.503</td>\n",
       "</tr>\n",
       "<tr>\n",
       "  <th>ma.L2</th>  <td>    0.0414</td> <td>    0.014</td> <td>    2.954</td> <td> 0.003</td> <td>    0.014</td> <td>    0.069</td>\n",
       "</tr>\n",
       "<tr>\n",
       "  <th>ma.L3</th>  <td>   -0.0641</td> <td>    0.011</td> <td>   -5.697</td> <td> 0.000</td> <td>   -0.086</td> <td>   -0.042</td>\n",
       "</tr>\n",
       "<tr>\n",
       "  <th>sigma2</th> <td>  144.7922</td> <td>    1.589</td> <td>   91.122</td> <td> 0.000</td> <td>  141.678</td> <td>  147.907</td>\n",
       "</tr>\n",
       "</table>\n",
       "<table class=\"simpletable\">\n",
       "<tr>\n",
       "  <th>Ljung-Box (L1) (Q):</th>     <td>0.00</td> <th>  Jarque-Bera (JB):  </th> <td>13647.32</td>\n",
       "</tr>\n",
       "<tr>\n",
       "  <th>Prob(Q):</th>                <td>0.97</td> <th>  Prob(JB):          </th>   <td>0.00</td>  \n",
       "</tr>\n",
       "<tr>\n",
       "  <th>Heteroskedasticity (H):</th> <td>5.35</td> <th>  Skew:              </th>   <td>1.01</td>  \n",
       "</tr>\n",
       "<tr>\n",
       "  <th>Prob(H) (two-sided):</th>    <td>0.00</td> <th>  Kurtosis:          </th>   <td>13.80</td> \n",
       "</tr>\n",
       "</table><br/><br/>Warnings:<br/>[1] Covariance matrix calculated using the outer product of gradients (complex-step)."
      ],
      "text/plain": [
       "<class 'statsmodels.iolib.summary.Summary'>\n",
       "\"\"\"\n",
       "                               SARIMAX Results                                \n",
       "==============================================================================\n",
       "Dep. Variable:                      y   No. Observations:                 2713\n",
       "Model:               SARIMAX(1, 1, 3)   Log Likelihood              -10594.675\n",
       "Date:                Fri, 14 Apr 2023   AIC                          21199.350\n",
       "Time:                        20:05:57   BIC                          21228.878\n",
       "Sample:                             0   HQIC                         21210.026\n",
       "                               - 2713                                         \n",
       "Covariance Type:                  opg                                         \n",
       "==============================================================================\n",
       "                 coef    std err          z      P>|z|      [0.025      0.975]\n",
       "------------------------------------------------------------------------------\n",
       "ar.L1          0.7421      0.123      6.031      0.000       0.501       0.983\n",
       "ma.L1         -0.7449      0.123     -6.046      0.000      -0.986      -0.503\n",
       "ma.L2          0.0414      0.014      2.954      0.003       0.014       0.069\n",
       "ma.L3         -0.0641      0.011     -5.697      0.000      -0.086      -0.042\n",
       "sigma2       144.7922      1.589     91.122      0.000     141.678     147.907\n",
       "===================================================================================\n",
       "Ljung-Box (L1) (Q):                   0.00   Jarque-Bera (JB):             13647.32\n",
       "Prob(Q):                              0.97   Prob(JB):                         0.00\n",
       "Heteroskedasticity (H):               5.35   Skew:                             1.01\n",
       "Prob(H) (two-sided):                  0.00   Kurtosis:                        13.80\n",
       "===================================================================================\n",
       "\n",
       "Warnings:\n",
       "[1] Covariance matrix calculated using the outer product of gradients (complex-step).\n",
       "\"\"\""
      ]
     },
     "execution_count": 14,
     "metadata": {},
     "output_type": "execute_result"
    }
   ],
   "source": [
    "stepwise_fit=auto_arima(stock_data['Close'],trace=True,supress_warnings=True)\n",
    "stepwise_fit.summary()"
   ]
  },
  {
   "cell_type": "code",
   "execution_count": 15,
   "id": "138daa42",
   "metadata": {},
   "outputs": [],
   "source": [
    "from statsmodels.tsa.arima.model import ARIMA as ARIMA2"
   ]
  },
  {
   "cell_type": "code",
   "execution_count": 16,
   "id": "411c0167",
   "metadata": {},
   "outputs": [
    {
     "data": {
      "text/plain": [
       "(2713, 7)"
      ]
     },
     "execution_count": 16,
     "metadata": {},
     "output_type": "execute_result"
    }
   ],
   "source": [
    "stock_data.shape"
   ]
  },
  {
   "cell_type": "code",
   "execution_count": 17,
   "id": "6ad3c00a",
   "metadata": {},
   "outputs": [
    {
     "name": "stdout",
     "output_type": "stream",
     "text": [
      "(2633, 7) (20, 7)\n"
     ]
    }
   ],
   "source": [
    "train=stock_data.iloc[:-80]\n",
    "test=stock_data.iloc[-20:]\n",
    "print(train.shape,test.shape)"
   ]
  },
  {
   "cell_type": "code",
   "execution_count": 18,
   "id": "4097535e",
   "metadata": {},
   "outputs": [
    {
     "data": {
      "text/html": [
       "<table class=\"simpletable\">\n",
       "<caption>SARIMAX Results</caption>\n",
       "<tr>\n",
       "  <th>Dep. Variable:</th>         <td>Close</td>      <th>  No. Observations:  </th>    <td>2633</td>   \n",
       "</tr>\n",
       "<tr>\n",
       "  <th>Model:</th>            <td>ARIMA(1, 1, 3)</td>  <th>  Log Likelihood     </th> <td>-10280.503</td>\n",
       "</tr>\n",
       "<tr>\n",
       "  <th>Date:</th>            <td>Fri, 14 Apr 2023</td> <th>  AIC                </th>  <td>20571.005</td>\n",
       "</tr>\n",
       "<tr>\n",
       "  <th>Time:</th>                <td>20:05:57</td>     <th>  BIC                </th>  <td>20600.383</td>\n",
       "</tr>\n",
       "<tr>\n",
       "  <th>Sample:</th>                  <td>0</td>        <th>  HQIC               </th>  <td>20581.643</td>\n",
       "</tr>\n",
       "<tr>\n",
       "  <th></th>                      <td> - 2633</td>     <th>                     </th>      <td> </td>    \n",
       "</tr>\n",
       "<tr>\n",
       "  <th>Covariance Type:</th>        <td>opg</td>       <th>                     </th>      <td> </td>    \n",
       "</tr>\n",
       "</table>\n",
       "<table class=\"simpletable\">\n",
       "<tr>\n",
       "     <td></td>       <th>coef</th>     <th>std err</th>      <th>z</th>      <th>P>|z|</th>  <th>[0.025</th>    <th>0.975]</th>  \n",
       "</tr>\n",
       "<tr>\n",
       "  <th>ar.L1</th>  <td>    0.7437</td> <td>    0.121</td> <td>    6.121</td> <td> 0.000</td> <td>    0.506</td> <td>    0.982</td>\n",
       "</tr>\n",
       "<tr>\n",
       "  <th>ma.L1</th>  <td>   -0.7450</td> <td>    0.122</td> <td>   -6.126</td> <td> 0.000</td> <td>   -0.983</td> <td>   -0.507</td>\n",
       "</tr>\n",
       "<tr>\n",
       "  <th>ma.L2</th>  <td>    0.0390</td> <td>    0.014</td> <td>    2.768</td> <td> 0.006</td> <td>    0.011</td> <td>    0.067</td>\n",
       "</tr>\n",
       "<tr>\n",
       "  <th>ma.L3</th>  <td>   -0.0636</td> <td>    0.011</td> <td>   -5.614</td> <td> 0.000</td> <td>   -0.086</td> <td>   -0.041</td>\n",
       "</tr>\n",
       "<tr>\n",
       "  <th>sigma2</th> <td>  144.6109</td> <td>    1.591</td> <td>   90.915</td> <td> 0.000</td> <td>  141.493</td> <td>  147.728</td>\n",
       "</tr>\n",
       "</table>\n",
       "<table class=\"simpletable\">\n",
       "<tr>\n",
       "  <th>Ljung-Box (L1) (Q):</th>     <td>0.00</td> <th>  Jarque-Bera (JB):  </th> <td>14057.05</td>\n",
       "</tr>\n",
       "<tr>\n",
       "  <th>Prob(Q):</th>                <td>0.98</td> <th>  Prob(JB):          </th>   <td>0.00</td>  \n",
       "</tr>\n",
       "<tr>\n",
       "  <th>Heteroskedasticity (H):</th> <td>5.69</td> <th>  Skew:              </th>   <td>1.03</td>  \n",
       "</tr>\n",
       "<tr>\n",
       "  <th>Prob(H) (two-sided):</th>    <td>0.00</td> <th>  Kurtosis:          </th>   <td>14.13</td> \n",
       "</tr>\n",
       "</table><br/><br/>Warnings:<br/>[1] Covariance matrix calculated using the outer product of gradients (complex-step)."
      ],
      "text/plain": [
       "<class 'statsmodels.iolib.summary.Summary'>\n",
       "\"\"\"\n",
       "                               SARIMAX Results                                \n",
       "==============================================================================\n",
       "Dep. Variable:                  Close   No. Observations:                 2633\n",
       "Model:                 ARIMA(1, 1, 3)   Log Likelihood              -10280.503\n",
       "Date:                Fri, 14 Apr 2023   AIC                          20571.005\n",
       "Time:                        20:05:57   BIC                          20600.383\n",
       "Sample:                             0   HQIC                         20581.643\n",
       "                               - 2633                                         \n",
       "Covariance Type:                  opg                                         \n",
       "==============================================================================\n",
       "                 coef    std err          z      P>|z|      [0.025      0.975]\n",
       "------------------------------------------------------------------------------\n",
       "ar.L1          0.7437      0.121      6.121      0.000       0.506       0.982\n",
       "ma.L1         -0.7450      0.122     -6.126      0.000      -0.983      -0.507\n",
       "ma.L2          0.0390      0.014      2.768      0.006       0.011       0.067\n",
       "ma.L3         -0.0636      0.011     -5.614      0.000      -0.086      -0.041\n",
       "sigma2       144.6109      1.591     90.915      0.000     141.493     147.728\n",
       "===================================================================================\n",
       "Ljung-Box (L1) (Q):                   0.00   Jarque-Bera (JB):             14057.05\n",
       "Prob(Q):                              0.98   Prob(JB):                         0.00\n",
       "Heteroskedasticity (H):               5.69   Skew:                             1.03\n",
       "Prob(H) (two-sided):                  0.00   Kurtosis:                        14.13\n",
       "===================================================================================\n",
       "\n",
       "Warnings:\n",
       "[1] Covariance matrix calculated using the outer product of gradients (complex-step).\n",
       "\"\"\""
      ]
     },
     "execution_count": 18,
     "metadata": {},
     "output_type": "execute_result"
    }
   ],
   "source": [
    "#train the model\n",
    "model=ARIMA2(train['Close'],order=(1,1,3))\n",
    "model=model.fit()\n",
    "model.summary()"
   ]
  },
  {
   "cell_type": "code",
   "execution_count": 19,
   "id": "af6c3164",
   "metadata": {},
   "outputs": [
    {
     "name": "stdout",
     "output_type": "stream",
     "text": [
      "2639    846.061887\n",
      "2640    846.512711\n",
      "2641    846.180188\n",
      "2642    845.932877\n",
      "2643    845.748941\n",
      "2644    845.612140\n",
      "2645    845.510395\n",
      "2646    845.434723\n",
      "2647    845.378443\n",
      "2648    845.336584\n",
      "2649    845.305453\n",
      "2650    845.282299\n",
      "2651    845.265078\n",
      "2652    845.252271\n",
      "2653    845.242745\n",
      "2654    845.235660\n",
      "2655    845.230391\n",
      "2656    845.226473\n",
      "2657    845.223558\n",
      "2658    845.221390\n",
      "Name: predicted_mean, dtype: float64\n"
     ]
    }
   ],
   "source": [
    "#testing\n",
    "start=len(train)\n",
    "end=len(train)+len(test)-1\n",
    "pred=model.predict(start=start,end=end,typ='levels')\n",
    "pred.index=stock_data.index[start:end+1]\n",
    "print(pred)"
   ]
  },
  {
   "cell_type": "code",
   "execution_count": 20,
   "id": "2c88845f",
   "metadata": {},
   "outputs": [
    {
     "data": {
      "text/plain": [
       "<AxesSubplot:>"
      ]
     },
     "execution_count": 20,
     "metadata": {},
     "output_type": "execute_result"
    },
    {
     "data": {
      "image/png": "[encoded data removed]",
      "text/plain": [
       "<Figure size 432x288 with 1 Axes>"
      ]
     },
     "metadata": {
      "needs_background": "light"
     },
     "output_type": "display_data"
    }
   ],
   "source": [
    "pred.plot(legend=True)\n",
    "test['Close'].plot(legend=True)"
   ]
  },
  {
   "cell_type": "code",
   "execution_count": 21,
   "id": "155de9f4",
   "metadata": {},
   "outputs": [
    {
     "data": {
      "text/plain": [
       "826.5824921999999"
      ]
     },
     "execution_count": 21,
     "metadata": {},
     "output_type": "execute_result"
    }
   ],
   "source": [
    "test['Close'].mean()"
   ]
  },
  {
   "cell_type": "code",
   "execution_count": 22,
   "id": "1ab6e1a9",
   "metadata": {},
   "outputs": [],
   "source": [
    "from sklearn.metrics import mean_squared_error\n",
    "from math import sqrt"
   ]
  },
  {
   "cell_type": "code",
   "execution_count": 23,
   "id": "2a8feef8",
   "metadata": {},
   "outputs": [],
   "source": [
    "mse=mean_squared_error(pred,test['Close'])"
   ]
  },
  {
   "cell_type": "code",
   "execution_count": 24,
   "id": "293b9aea",
   "metadata": {},
   "outputs": [],
   "source": [
    "rmse=sqrt(mean_squared_error(pred,test['Close']))"
   ]
  },
  {
   "cell_type": "code",
   "execution_count": 25,
   "id": "f9e433a6",
   "metadata": {},
   "outputs": [
    {
     "name": "stdout",
     "output_type": "stream",
     "text": [
      "24.551310306355184\n",
      "602.7668377589422\n"
     ]
    }
   ],
   "source": [
    "print(rmse)\n",
    "print(mse)"
   ]
  },
  {
   "cell_type": "code",
   "execution_count": 26,
   "id": "736b2dc7",
   "metadata": {},
   "outputs": [
    {
     "name": "stdout",
     "output_type": "stream",
     "text": [
      "0.025228614809977696\n"
     ]
    }
   ],
   "source": [
    "from sklearn.metrics import mean_absolute_percentage_error\n",
    "\n",
    "mape = mean_absolute_percentage_error(test['Close'], pred)\n",
    "print(mape)"
   ]
  },
  {
   "cell_type": "code",
   "execution_count": 27,
   "id": "6951ce6b",
   "metadata": {},
   "outputs": [],
   "source": [
    "model2=ARIMA2(stock_data['Close'],order=(1,1,3))\n",
    "model2=model2.fit()"
   ]
  },
  {
   "cell_type": "code",
   "execution_count": 28,
   "id": "d15cdc77",
   "metadata": {
    "scrolled": true
   },
   "outputs": [
    {
     "data": {
      "text/html": [
       "<div>\n",
       "<style scoped>\n",
       "    .dataframe tbody tr th:only-of-type {\n",
       "        vertical-align: middle;\n",
       "    }\n",
       "\n",
       "    .dataframe tbody tr th {\n",
       "        vertical-align: top;\n",
       "    }\n",
       "\n",
       "    .dataframe thead th {\n",
       "        text-align: right;\n",
       "    }\n",
       "</style>\n",
       "<table border=\"1\" class=\"dataframe\">\n",
       "  <thead>\n",
       "    <tr style=\"text-align: right;\">\n",
       "      <th></th>\n",
       "      <th>Date</th>\n",
       "      <th>Open</th>\n",
       "      <th>High</th>\n",
       "      <th>Low</th>\n",
       "      <th>Close</th>\n",
       "      <th>Adj Close</th>\n",
       "      <th>Volume</th>\n",
       "    </tr>\n",
       "  </thead>\n",
       "  <tbody>\n",
       "    <tr>\n",
       "      <th>2714</th>\n",
       "      <td>2022-12-26</td>\n",
       "      <td>785.000000</td>\n",
       "      <td>819.700012</td>\n",
       "      <td>780.700012</td>\n",
       "      <td>814.500000</td>\n",
       "      <td>814.500000</td>\n",
       "      <td>93019.0</td>\n",
       "    </tr>\n",
       "    <tr>\n",
       "      <th>2715</th>\n",
       "      <td>2022-12-27</td>\n",
       "      <td>818.799988</td>\n",
       "      <td>823.000000</td>\n",
       "      <td>810.000000</td>\n",
       "      <td>816.549988</td>\n",
       "      <td>816.549988</td>\n",
       "      <td>34735.0</td>\n",
       "    </tr>\n",
       "    <tr>\n",
       "      <th>2716</th>\n",
       "      <td>2022-12-28</td>\n",
       "      <td>814.000000</td>\n",
       "      <td>826.799988</td>\n",
       "      <td>811.650024</td>\n",
       "      <td>821.200012</td>\n",
       "      <td>821.200012</td>\n",
       "      <td>49240.0</td>\n",
       "    </tr>\n",
       "    <tr>\n",
       "      <th>2717</th>\n",
       "      <td>2022-12-29</td>\n",
       "      <td>813.799988</td>\n",
       "      <td>823.450012</td>\n",
       "      <td>812.849976</td>\n",
       "      <td>817.049988</td>\n",
       "      <td>817.049988</td>\n",
       "      <td>35258.0</td>\n",
       "    </tr>\n",
       "    <tr>\n",
       "      <th>2718</th>\n",
       "      <td>2022-12-30</td>\n",
       "      <td>821.400024</td>\n",
       "      <td>828.450012</td>\n",
       "      <td>808.000000</td>\n",
       "      <td>811.049988</td>\n",
       "      <td>811.049988</td>\n",
       "      <td>44925.0</td>\n",
       "    </tr>\n",
       "  </tbody>\n",
       "</table>\n",
       "</div>"
      ],
      "text/plain": [
       "            Date        Open        High         Low       Close   Adj Close  \\\n",
       "2714  2022-12-26  785.000000  819.700012  780.700012  814.500000  814.500000   \n",
       "2715  2022-12-27  818.799988  823.000000  810.000000  816.549988  816.549988   \n",
       "2716  2022-12-28  814.000000  826.799988  811.650024  821.200012  821.200012   \n",
       "2717  2022-12-29  813.799988  823.450012  812.849976  817.049988  817.049988   \n",
       "2718  2022-12-30  821.400024  828.450012  808.000000  811.049988  811.049988   \n",
       "\n",
       "       Volume  \n",
       "2714  93019.0  \n",
       "2715  34735.0  \n",
       "2716  49240.0  \n",
       "2717  35258.0  \n",
       "2718  44925.0  "
      ]
     },
     "execution_count": 28,
     "metadata": {},
     "output_type": "execute_result"
    }
   ],
   "source": [
    "stock_data.tail()"
   ]
  },
  {
   "cell_type": "code",
   "execution_count": null,
   "id": "70e552f3",
   "metadata": {},
   "outputs": [],
   "source": [
    "#Making future predictions (for the next 30 days)"
   ]
  },
  {
   "cell_type": "code",
   "execution_count": 29,
   "id": "cad2e1e7",
   "metadata": {},
   "outputs": [],
   "source": [
    "pred=model2.predict(start=len(stock_data),end=len(stock_data)+30,typ='levels').rename('ARIMA Predictions')"
   ]
  },
  {
   "cell_type": "code",
   "execution_count": 30,
   "id": "5bf3ecb6",
   "metadata": {},
   "outputs": [
    {
     "name": "stdout",
     "output_type": "stream",
     "text": [
      "2713    810.783433\n",
      "2714    810.611392\n",
      "2715    810.872538\n",
      "2716    811.066345\n",
      "2717    811.210178\n",
      "2718    811.316922\n",
      "2719    811.396141\n",
      "2720    811.454933\n",
      "2721    811.498564\n",
      "2722    811.530945\n",
      "2723    811.554977\n",
      "2724    811.572811\n",
      "2725    811.586047\n",
      "2726    811.595870\n",
      "2727    811.603160\n",
      "2728    811.608570\n",
      "2729    811.612585\n",
      "2730    811.615565\n",
      "2731    811.617776\n",
      "2732    811.619418\n",
      "2733    811.620636\n",
      "2734    811.621540\n",
      "2735    811.622210\n",
      "2736    811.622708\n",
      "2737    811.623078\n",
      "2738    811.623352\n",
      "2739    811.623555\n",
      "2740    811.623706\n",
      "2741    811.623819\n",
      "2742    811.623902\n",
      "2743    811.623963\n",
      "Name: ARIMA Predictions, dtype: float64\n"
     ]
    }
   ],
   "source": [
    "print(pred)"
   ]
  },
  {
   "cell_type": "code",
   "execution_count": null,
   "id": "5ea68b3a",
   "metadata": {},
   "outputs": [],
   "source": []
  },
  {
   "cell_type": "code",
   "execution_count": null,
   "id": "4f35f86e",
   "metadata": {},
   "outputs": [],
   "source": []
  }
 ],
 "metadata": {
  "kernelspec": {
   "display_name": "Python 3 (ipykernel)",
   "language": "python",
   "name": "python3"
  },
  "language_info": {
   "codemirror_mode": {
    "name": "ipython",
    "version": 3
   },
   "file_extension": ".py",
   "mimetype": "text/x-python",
   "name": "python",
   "nbconvert_exporter": "python",
   "pygments_lexer": "ipython3",
   "version": "3.9.7"
  }
 },
 "nbformat": 4,
 "nbformat_minor": 5
}
